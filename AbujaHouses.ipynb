#importing libraries
!pip install requests --quiet --upgrade
import requests
!pip install beautifulsoup4 --quiet --upgrade
from bs4 import BeautifulSoup
!pip install pandas --quiet --upgrade
import pandas as pd

#choosing the link to scrape data from
link = 'https://www.privateproperty.com.ng/property-for-sale/abuja'

#fetching the datafrom the link and checking status code to ensure succesful response to request.
response = requests.get(link)
content = response.text
response.status_code

#scraping data using beautiful soup
doc = BeautifulSoup(content, 'html.parser')

#Created a dictionary, then creted a function to call data into the dictionary.
Haus = []
for i in range(0,130):
  url = f"https://www.privateproperty.com.ng/houses-for-sale?search=ABUJA&bedroom=&min_price=&max_price=&button=&page={i}"
  response = requests.get(url)
  content = response.text
  response.status_code
  doc = BeautifulSoup(content, 'html.parser')
  homelists = doc.find_all('div', {'class':'similar-listings-item'})
  for home in homelists:
    h = dict()
    h['desc'] = home.select_one(".similar-listings-info h2").text
    h['name'] = home.select_one(".similar-listings-info h3").text
    h['location'] = home.select_one('.listings-location').text.strip()
    h['price'] = home.select_one(".similar-listings-price h4").text
    Haus.append(h)
 
#Created a dataframe
Haus_df = pd.DataFrame(Haus)

#Created a csv file from the data frame
Haus_df.to_csv('AbujaHouses.csv', index=None)


    
